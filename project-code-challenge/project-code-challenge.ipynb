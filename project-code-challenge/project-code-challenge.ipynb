{
 "cells": [
  {
   "cell_type": "markdown",
   "metadata": {},
   "source": [
    "<img src=\"http://imgur.com/1ZcRyrc.png\" style=\"float: left; margin: 20px; height: 55px\">\n",
    "\n",
    "# Project 1: Python Coding Exercises\n",
    "\n",
    "_Authors: Joseph Nelson (DC) _\n",
    "\n",
    "---"
   ]
  },
  {
   "cell_type": "markdown",
   "metadata": {},
   "source": [
    "The following code challenges are drawn from common exercises used in technical interviews.\n",
    "\n",
    "Please note that there may be several ways to approach each challenge. If you get stuck, try mapping out your approach in pseudocode first. Finally, while solutions to problems like these may be found online, remember that if you copy/paste code that you can't explain, you'll be missing out on the point of the project. The only way to truly learn a new skill is through practice, trial, and error - we can only help you improve by understanding where you are having trouble."
   ]
  },
  {
   "cell_type": "markdown",
   "metadata": {},
   "source": [
    "### Challenge 1: Largest Palindrome\n",
    "A palindromic number reads the same both ways. For example, 1234321 is a palindrome. The largest palindrome made from the product of two two-digit numbers is 9009 = 91 × 99. Find the largest palindrome made from the product of two three-digit numbers. Afterward, write a brief explanation walking through your code's logic in markdown."
   ]
  },
  {
   "cell_type": "code",
   "execution_count": 24,
   "metadata": {},
   "outputs": [
    {
     "name": "stdout",
     "output_type": "stream",
     "text": [
      "99000099\n"
     ]
    }
   ],
   "source": [
    "# n refers to n-digit numbers\n",
    "def largest_palindrome(n):\n",
    "    if n < 1:\n",
    "        return \"Invalid Input. 'n' must be from 1 and above\"\n",
    "    \n",
    "    # x is the largest n-digit number (10 to the power of n, then minus 1)\n",
    "    x = 10 ** n -1\n",
    "    # set y equal to x\n",
    "    y = x\n",
    "    \n",
    "    # Start off with the product of 2 largest n-digit number first,\n",
    "    # then if the product is not a palindrome, decrement the 2nd multiplier by 1.\n",
    "    # Once the second multiplier is exhausted, \n",
    "    # reset the 2nd multiplier and decrement the 1st multiplier.\n",
    "    \n",
    "    # Decreasing loop from x to 1 (The end of a range is exclusive), assigned to i\n",
    "    for i in range(x,0,-1):\n",
    "        # Decreasing loop from y to 1, assigned to j\n",
    "        for j in range(y,0,-1):\n",
    "            # Get the product of i and j\n",
    "            prod = i * j\n",
    "            \n",
    "            # Stringify the product of i and j\n",
    "            prod_str = str(prod)\n",
    "            \n",
    "            # Check prod_str against its reversed string\n",
    "            # If true, means 'prod' is a palindrome and return it\n",
    "            if prod_str == prod_str[::-1]:\n",
    "                return prod\n",
    "    \n",
    "print(largest_palindrome(4))"
   ]
  },
  {
   "cell_type": "markdown",
   "metadata": {},
   "source": [
    "\n",
    "### Challenge 2: Summation of Primes\n",
    "The sum of the primes below 10 is 2 + 3 + 5 + 7 = 17. Find the sum of all the primes below 2,000. Afterward, write a brief explanation walking through your code's logic in markdown."
   ]
  },
  {
   "cell_type": "code",
   "execution_count": 31,
   "metadata": {},
   "outputs": [
    {
     "name": "stdout",
     "output_type": "stream",
     "text": [
      "17\n"
     ]
    }
   ],
   "source": [
    "def sum_of_primes(n):\n",
    "    sum = 0\n",
    "    \n",
    "    # Loop all the numbers from 1 to n-1, adding up all the prime numbers\n",
    "    for i in range(n):\n",
    "        if is_prime(i):\n",
    "            # summing up all the primes numbers\n",
    "            sum += i\n",
    "            \n",
    "    # returning the sum\n",
    "    return sum\n",
    "    \n",
    "# function to check for prime numbers\n",
    "def is_prime(n):\n",
    "    if n <= 1:\n",
    "        # 0 and 1 are not prime numbers, return False\n",
    "        return False\n",
    "    elif (n == 2 | n == 3):\n",
    "        # 2 and 3 are prime numbers\n",
    "        return True\n",
    "    else:\n",
    "        # if a number cannot be divided up to its root, it is a prime number\n",
    "        limit = int(n**0.5) + 1\n",
    "        for i in range(2,limit):\n",
    "            if n%i == 0:\n",
    "                # if n is divisible by i, it is not a prime number\n",
    "                return False\n",
    "        \n",
    "        return True\n",
    "    \n",
    "print(sum_of_primes(10))"
   ]
  },
  {
   "cell_type": "markdown",
   "metadata": {},
   "source": [
    "### Challenge 3: Multiples of 3 and 5\n",
    "If we list all of the natural numbers below 10 that are multiples of 3 or 5, we get 3, 5, 6, and 9. The sum of these multiples is 23. Find the sum of all the multiples of 3 and 5 below 1,000. Afterward, write a brief explanation walking through your code's logic in markdown."
   ]
  },
  {
   "cell_type": "code",
   "execution_count": 35,
   "metadata": {},
   "outputs": [
    {
     "name": "stdout",
     "output_type": "stream",
     "text": [
      "266333\n"
     ]
    }
   ],
   "source": [
    "def multiples_of_3_and_5(n):\n",
    "    sum = 0\n",
    "    \n",
    "    # Loop from 0 to n, increment by 3 at a time. \n",
    "    # 'i' will always be of multiples of 3, add it to the sum\n",
    "    for i in range(0,n,3):\n",
    "        sum += i\n",
    "        \n",
    "    # Loop from 0 to n, increment by 5 at a time\n",
    "    # 'i' will always be of multiples of 5, add it to the sum\n",
    "    for i in range(0,n,5):\n",
    "        sum += i\n",
    "        \n",
    "    # return the sum of multiples of 3 and 5\n",
    "    return sum\n",
    "\n",
    "print(multiples_of_3_and_5(1000))"
   ]
  },
  {
   "cell_type": "markdown",
   "metadata": {},
   "source": [
    "### Challenge 4: String Compressor\n",
    "Implement a method to perform basic string compression using the counts of repeated characters. (This is called run-length encoding.) For example, the string \"aabcccccaaa\" would become a2b1c5a3. If the “compressed” string would not become smaller than the original string, your method should return the original string. You can assume the string has only uppercase and lowercase letters (a–z). Specify whether your solution is case sensitive or case insensitive and what you would need to change to make it the other. Afterward, write a brief explanation walking through your code's logic in markdown."
   ]
  },
  {
   "cell_type": "code",
   "execution_count": 59,
   "metadata": {},
   "outputs": [
    {
     "name": "stdout",
     "output_type": "stream",
     "text": [
      "a2bc5a3\n"
     ]
    }
   ],
   "source": [
    "# solution is case-sensitive\n",
    "def str_compress(x):\n",
    "    # empty string for storing the compressed_string\n",
    "    compressed_str = ''\n",
    "    \n",
    "    # Assign the first character of the input string for comparison\n",
    "    preceding_char = x[0]\n",
    "    \n",
    "    # unique character appearance count, default is 1\n",
    "    count = 1\n",
    "    \n",
    "    for i in range(1,len(x)):\n",
    "        encountered_char = x[i]\n",
    "\n",
    "        # Switch the 'if' statements below by comment one of them\n",
    "        # to make the solution non case-sensitive/case-sensitive.\n",
    "        \n",
    "        # if preceding_char.lower() == encountered_char.lower(): # compares the same case of both characters\n",
    "        if preceding_char == encountered_char: # strictly compares characters with no regard of case\n",
    "        \n",
    "            # Both the preceding character and the encountered character are the same\n",
    "\n",
    "            # count increment\n",
    "            count += 1\n",
    "            \n",
    "            # When the check reaches the end of the input string,\n",
    "            # Add the preceding_char and its count value (if greater than 1) into the compressed_str\n",
    "            if i == len(x)-1:\n",
    "                compressed_str += preceding_char\n",
    "                if count > 1:\n",
    "                    compressed_str += str(count)\n",
    "        else:\n",
    "            # Both the preceding character and the encountered character are not the same\n",
    "            \n",
    "            # Add the preceding_char and its count value (if greater than 1) into the compressed_str\n",
    "            compressed_str += preceding_char\n",
    "            if count > 1:\n",
    "                compressed_str += str(count)\n",
    "                \n",
    "            # reassign the preceding_char with the encountered character for the next comparison\n",
    "            preceding_char = encountered_char\n",
    "            #reset the count\n",
    "            count = 1\n",
    "            \n",
    "    # return the compressed string    \n",
    "    return compressed_str\n",
    "            \n",
    "\n",
    "print(str_compress('aabccCccaaa'))"
   ]
  },
  {
   "cell_type": "markdown",
   "metadata": {},
   "source": [
    "### *BONUS* Challenge: FizzBuzz\n",
    "Write a program that prints all of the numbers from 1 to 100. For multiples of 3, instead of the number, print \"Fizz;\" for multiples of 5, print \"Buzz.\" For numbers that are multiples of both 3 and 5, print \"FizzBuzz.\" Afterward, write a brief explanation walking through your code's logic in markdown."
   ]
  },
  {
   "cell_type": "code",
   "execution_count": 40,
   "metadata": {},
   "outputs": [
    {
     "name": "stdout",
     "output_type": "stream",
     "text": [
      "1\n",
      "2\n",
      "Fizz\n",
      "4\n",
      "Buzz\n",
      "Fizz\n",
      "7\n",
      "8\n",
      "Fizz\n",
      "Buzz\n",
      "11\n",
      "Fizz\n",
      "13\n",
      "14\n",
      "FizzBuzz\n",
      "16\n",
      "17\n",
      "Fizz\n",
      "19\n",
      "Buzz\n",
      "Fizz\n",
      "22\n",
      "23\n",
      "Fizz\n",
      "Buzz\n",
      "26\n",
      "Fizz\n",
      "28\n",
      "29\n",
      "FizzBuzz\n",
      "31\n",
      "32\n",
      "Fizz\n",
      "34\n",
      "Buzz\n",
      "Fizz\n",
      "37\n",
      "38\n",
      "Fizz\n",
      "Buzz\n",
      "41\n",
      "Fizz\n",
      "43\n",
      "44\n",
      "FizzBuzz\n",
      "46\n",
      "47\n",
      "Fizz\n",
      "49\n",
      "Buzz\n",
      "Fizz\n",
      "52\n",
      "53\n",
      "Fizz\n",
      "Buzz\n",
      "56\n",
      "Fizz\n",
      "58\n",
      "59\n",
      "FizzBuzz\n",
      "61\n",
      "62\n",
      "Fizz\n",
      "64\n",
      "Buzz\n",
      "Fizz\n",
      "67\n",
      "68\n",
      "Fizz\n",
      "Buzz\n",
      "71\n",
      "Fizz\n",
      "73\n",
      "74\n",
      "FizzBuzz\n",
      "76\n",
      "77\n",
      "Fizz\n",
      "79\n",
      "Buzz\n",
      "Fizz\n",
      "82\n",
      "83\n",
      "Fizz\n",
      "Buzz\n",
      "86\n",
      "Fizz\n",
      "88\n",
      "89\n",
      "FizzBuzz\n",
      "91\n",
      "92\n",
      "Fizz\n",
      "94\n",
      "Buzz\n",
      "Fizz\n",
      "97\n",
      "98\n",
      "Fizz\n",
      "Buzz\n",
      "None\n"
     ]
    }
   ],
   "source": [
    "def fizzbuzz(n):\n",
    "    # Loop the numbers from 1 to n\n",
    "    for i in range(1,n+1):\n",
    "        if i%15==0:\n",
    "            # 15 is the small common multiple of 3 and 5\n",
    "            # print 'FizzBuzz' if i is a multiple of 15\n",
    "            print(\"FizzBuzz\")\n",
    "        elif i%3==0:\n",
    "            print(\"Fizz\")\n",
    "        elif i%5==0:\n",
    "            print(\"Buzz\")\n",
    "        else:\n",
    "            print(i)\n",
    "        \n",
    "print(fizzbuzz(100))"
   ]
  },
  {
   "cell_type": "code",
   "execution_count": null,
   "metadata": {},
   "outputs": [],
   "source": []
  }
 ],
 "metadata": {
  "anaconda-cloud": {},
  "kernelspec": {
   "display_name": "Python 3 (ipykernel)",
   "language": "python",
   "name": "python3"
  },
  "language_info": {
   "codemirror_mode": {
    "name": "ipython",
    "version": 3
   },
   "file_extension": ".py",
   "mimetype": "text/x-python",
   "name": "python",
   "nbconvert_exporter": "python",
   "pygments_lexer": "ipython3",
   "version": "3.9.13"
  }
 },
 "nbformat": 4,
 "nbformat_minor": 2
}
